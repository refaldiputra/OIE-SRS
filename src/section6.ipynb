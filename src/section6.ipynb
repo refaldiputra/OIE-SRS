{
 "cells": [
  {
   "cell_type": "code",
   "execution_count": 69,
   "metadata": {},
   "outputs": [],
   "source": [
    "import torch\n",
    "import numpy as np\n",
    "import matplotlib.pyplot as plt\n",
    "import pandas as pd\n",
    "from typing import List"
   ]
  },
  {
   "cell_type": "code",
   "execution_count": 70,
   "metadata": {},
   "outputs": [],
   "source": [
    "from models.components import sasrec, bert4rec, bsarec"
   ]
  },
  {
   "cell_type": "code",
   "execution_count": null,
   "metadata": {},
   "outputs": [],
   "source": [
    "checkpoint_dir = # Put the checkpoint in src/data here"
   ]
  },
  {
   "cell_type": "code",
   "execution_count": 72,
   "metadata": {},
   "outputs": [],
   "source": [
    "def ckpt(name: str):\n",
    "    '''\n",
    "    The code is model_data_treatment\n",
    "    model: sasrec, bert4rec, bsarec\n",
    "    data: last, beauty, ml, yelp\n",
    "    treatment: null, o, z\n",
    "    '''\n",
    "    return f'{checkpoint_dir}/{name}'"
   ]
  },
  {
   "cell_type": "code",
   "execution_count": 74,
   "metadata": {},
   "outputs": [],
   "source": [
    "from collections import OrderedDict\n",
    "#torch.load(directory, map_location=lambda storage, loc: storage)\n",
    "\n",
    "def new_dict(state_dict):\n",
    "    new_state_dict = OrderedDict()\n",
    "\n",
    "    for k, v in state_dict['state_dict'].items():\n",
    "        if k[:4] == 'net.':\n",
    "            name = k[4:]  # remove `net.`\n",
    "        else:\n",
    "            name = k\n",
    "        new_state_dict[name] = v\n",
    "    return new_state_dict"
   ]
  },
  {
   "cell_type": "code",
   "execution_count": 75,
   "metadata": {},
   "outputs": [],
   "source": [
    "def state_dict(name:str):\n",
    "    path_name = ckpt(name)\n",
    "    try:\n",
    "        state_dict = torch.load(path_name, map_location=torch.device('cpu'))\n",
    "        item_size = state_dict['datamodule_hyper_parameters']['others']['item_size']\n",
    "        new_state_dict = new_dict(state_dict)\n",
    "        return new_state_dict, item_size\n",
    "    except:\n",
    "        print(f'No checkpoint yet')"
   ]
  },
  {
   "cell_type": "code",
   "execution_count": 77,
   "metadata": {},
   "outputs": [],
   "source": [
    "class transformer_class_sasrec: # initialization\n",
    "    def __init__(self):\n",
    "        pass\n",
    "    hidden_size = 64 # need to be called again\n",
    "    hidden_dropout_prob =  0.1 # this too\n",
    "    num_attention_heads = 2\n",
    "    num_hidden_layers = 2\n",
    "    attention_probs_dropout_prob= 0.5\n",
    "    hidden_act= 'gelu'\n",
    "\n",
    "class transformer_class_bert4: #initialization\n",
    "    def __init__(self):\n",
    "        pass\n",
    "    mask_ratio = 0.2\n",
    "    hidden_size = 64 # need to be called again\n",
    "    hidden_dropout_prob =  0.1 # this too\n",
    "    num_attention_heads = 2\n",
    "    num_hidden_layers = 2\n",
    "    attention_probs_dropout_prob= 0.5\n",
    "    hidden_act= 'gelu'\n",
    "\n",
    "class transformer_class_bsarec:\n",
    "    def __init__(self):\n",
    "        pass    \n",
    "    hidden_size= 64 # need to be called again\n",
    "    hidden_dropout_prob= 0.1 # this too\n",
    "    num_attention_heads= 4\n",
    "    num_hidden_layers= 2\n",
    "    attention_probs_dropout_prob= 0.5\n",
    "    hidden_act= 'gelu'\n",
    "    c = 3 # this hyperparameter is default from the original code\n",
    "    alpha = 0.9 # this too.\n",
    "\n",
    "\n",
    "# class instantiation\n",
    "transformer_class_sasrec = transformer_class_sasrec()\n",
    "transformer_class_bert4 = transformer_class_bert4()\n",
    "transformer_class_bsarec = transformer_class_bsarec()"
   ]
  },
  {
   "cell_type": "code",
   "execution_count": 78,
   "metadata": {},
   "outputs": [],
   "source": [
    "def model(name:str):\n",
    "    state_dict_, item_size = state_dict(name)\n",
    "    if name[:6] == 'sasreq':\n",
    "        model = sasrec.SASRecModel(\n",
    "        hidden_dropout_prob= 0.1,\n",
    "        item_size= item_size,\n",
    "        hidden_size= 64,\n",
    "        max_seq_length= 50,\n",
    "        initializer_range= 0.02,\n",
    "        transformer= transformer_class_sasrec\n",
    "        )\n",
    "    elif name[:8] == 'bert4rec':\n",
    "        model = bert4rec.BERT4RecModel(\n",
    "        mask_ratio= 0.2,\n",
    "        hidden_dropout_prob= 0.1,\n",
    "        item_size= item_size,\n",
    "        hidden_size= 64,\n",
    "        max_seq_length= 50,\n",
    "        initializer_range= 0.02,\n",
    "        transformer= transformer_class_bert4\n",
    "        )\n",
    "    elif name[:6] == 'bsarec':\n",
    "        model = bsarec.BSARecModel(\n",
    "        hidden_dropout_prob= 0.1,\n",
    "        item_size= item_size,\n",
    "        hidden_size= 64,\n",
    "        max_seq_length= 50,\n",
    "        initializer_range= 0.02,\n",
    "        transformer= transformer_class_bsarec\n",
    "        )\n",
    "\n",
    "    model.load_state_dict(state_dict_)\n",
    "    return model"
   ]
  },
  {
   "cell_type": "code",
   "execution_count": null,
   "metadata": {},
   "outputs": [],
   "source": [
    "\n",
    "bsarec_last_z = model('bsarec_last_z')\n",
    "bsarec_beauty_z = model('bsarec_beauty_z')\n",
    "bsarec_ml_z = model('bsarec_ml_z')\n",
    "bsarec_yelp_z = model('bsarec_yelp_z')\n",
    "\n",
    "# BSARec vanilla\n",
    "bsarec_last = model('bsarec_last')\n",
    "bsarec_beauty = model('bsarec_beauty')\n",
    "bsarec_ml = model('bsarec_ml')\n",
    "bsarec_yelp = model('bsarec_yelp')\n"
   ]
  },
  {
   "cell_type": "code",
   "execution_count": 83,
   "metadata": {},
   "outputs": [],
   "source": [
    "norm_beta = lambda module: module.item_encoder.blocks[0].layer.filter_layer.sqrt_beta.detach().cpu().norm().numpy()"
   ]
  },
  {
   "cell_type": "code",
   "execution_count": 152,
   "metadata": {},
   "outputs": [],
   "source": [
    "random_bsarec_list = [bsarec_last, bsarec_ml, bsarec_beauty, bsarec_yelp]\n",
    "random_bsarec_list_z = [bsarec_last_z, bsarec_ml_z, bsarec_beauty_z, bsarec_yelp_z]"
   ]
  },
  {
   "cell_type": "code",
   "execution_count": 153,
   "metadata": {},
   "outputs": [],
   "source": [
    "# mapping\n",
    "norm_beta_list = list(map(norm_beta, random_bsarec_list))\n",
    "norm_beta_list_z = list(map(norm_beta, random_bsarec_list_z))"
   ]
  },
  {
   "cell_type": "code",
   "execution_count": 157,
   "metadata": {},
   "outputs": [
    {
     "name": "stderr",
     "output_type": "stream",
     "text": [
      "<>:7: SyntaxWarning: invalid escape sequence '\\m'\n",
      "<>:7: SyntaxWarning: invalid escape sequence '\\m'\n",
      "/var/folders/dv/789rlrv9705cb4xh_x3cvnhw0000gn/T/ipykernel_49280/1372707784.py:7: SyntaxWarning: invalid escape sequence '\\m'\n",
      "  plt.ylabel('Norm of $\\\\sqrt{\\mathbf{\\\\beta}}$', fontsize=25)\n"
     ]
    },
    {
     "data": {
      "image/png": "[encoded data removed]",
      "text/plain": [
       "<Figure size 1000x250 with 1 Axes>"
      ]
     },
     "metadata": {},
     "output_type": "display_data"
    }
   ],
   "source": [
    "# plotting as bar chart\n",
    "plt.figure(figsize=(10, 2.5))\n",
    "plt.bar(range(len(norm_beta_list)), norm_beta_list, color='blue', alpha=0.6, label='Vanilla')\n",
    "plt.bar(range(len(norm_beta_list_z)), norm_beta_list_z, color='orange', alpha=0.6, label='+OIE')\n",
    "plt.xticks(range(len(norm_beta_list)), ['LastFM', 'ML', 'Beauty', 'Yelp'])\n",
    "# plt.xlabel('Dataset')\n",
    "plt.ylabel('Norm of $\\\\sqrt{\\mathbf{\\\\beta}}$', fontsize=25)\n",
    "# plt.title('Norm of Beta for BSARec and BSARec+')\n",
    "plt.legend(fontsize=18)\n",
    "plt.xticks(fontsize=25)\n",
    "plt.yticks(fontsize=25)\n",
    "plt.tight_layout()\n",
    "plt.savefig('fig6.pdf', dpi=450, bbox_inches='tight')"
   ]
  }
 ],
 "metadata": {
  "kernelspec": {
   "display_name": "minimum",
   "language": "python",
   "name": "python3"
  },
  "language_info": {
   "codemirror_mode": {
    "name": "ipython",
    "version": 3
   },
   "file_extension": ".py",
   "mimetype": "text/x-python",
   "name": "python",
   "nbconvert_exporter": "python",
   "pygments_lexer": "ipython3",
   "version": "3.12.3"
  }
 },
 "nbformat": 4,
 "nbformat_minor": 2
}
